{
 "cells": [
  {
   "metadata": {
    "ExecuteTime": {
     "end_time": "2025-09-19T14:24:45.154401Z",
     "start_time": "2025-09-19T14:24:45.151457Z"
    }
   },
   "cell_type": "code",
   "source": [
    "import numpy as np\n",
    "import timeit\n",
    "\n",
    "from config import XMAX, YMAX, FLOCK_SIZE"
   ],
   "id": "282971cc03c5d1dd",
   "outputs": [],
   "execution_count": 159
  },
  {
   "metadata": {
    "collapsed": true,
    "ExecuteTime": {
     "end_time": "2025-09-19T14:24:45.160664Z",
     "start_time": "2025-09-19T14:24:45.158410Z"
    }
   },
   "cell_type": "code",
   "source": [
    "# 2-dimensionalen Array erstellen mit möglichen Positionen von Boids\n",
    "rng = np.random.default_rng(seed=42)\n",
    "\n",
    "position_array = rng.random((FLOCK_SIZE, 2))\n",
    "position_array[:, 0] *= XMAX  # x-Positionen skalieren\n",
    "position_array[:, 1] *= YMAX  # y-Positionen skalieren"
   ],
   "id": "35b91fec549ec2e0",
   "outputs": [],
   "execution_count": 160
  },
  {
   "metadata": {
    "ExecuteTime": {
     "end_time": "2025-09-19T14:24:47.414450Z",
     "start_time": "2025-09-19T14:24:45.163485Z"
    }
   },
   "cell_type": "code",
   "source": [
    "def calculate_distances_with_sqrt(position_array):\n",
    "    distances = np.sqrt(position_array[:, 0]**2 + position_array[:,1]**2)\n",
    "\n",
    "def calculate_distances_without_sqrt(position_array):\n",
    "    distances = position_array[:, 0]**2 + position_array[:,1]**2\n",
    "\n",
    "\n",
    "# Zeiten messen bei n Durchläufen\n",
    "\n",
    "n = 1000000\n",
    "\n",
    "duration1 = timeit.timeit(lambda: calculate_distances_with_sqrt(position_array), number=1000000)\n",
    "duration2 = timeit.timeit(lambda: calculate_distances_without_sqrt(position_array), number=1000000)"
   ],
   "id": "c3cf172d5f2dff8d",
   "outputs": [],
   "execution_count": 161
  },
  {
   "metadata": {
    "ExecuteTime": {
     "end_time": "2025-09-19T14:24:47.426141Z",
     "start_time": "2025-09-19T14:24:47.424481Z"
    }
   },
   "cell_type": "code",
   "source": [
    "# Ausgabe\n",
    "print(f\"Dauer mit Ziehen von Wurzel: {duration1:.4f}\")\n",
    "print(f\"Dauer ohne Ziehen von Wurzel: {duration2:.4f}\")\n",
    "print(f\"=> Ohne Ziehen von Wurzel ist {(duration1 / duration2):.4f} mal schneller...\")\n"
   ],
   "id": "a99df38ae4b89f70",
   "outputs": [
    {
     "name": "stdout",
     "output_type": "stream",
     "text": [
      "Dauer mit Ziehen von Wurzel: 1.2542\n",
      "Dauer ohne Ziehen von Wurzel: 0.9941\n",
      "=> Ohne Ziehen von Wurzel ist 1.2615 mal schneller...\n"
     ]
    }
   ],
   "execution_count": 162
  }
 ],
 "metadata": {
  "kernelspec": {
   "display_name": "Python [conda env:base] *",
   "language": "python",
   "name": "conda-base-py"
  },
  "language_info": {
   "codemirror_mode": {
    "name": "ipython",
    "version": 2
   },
   "file_extension": ".py",
   "mimetype": "text/x-python",
   "name": "python",
   "nbconvert_exporter": "python",
   "pygments_lexer": "ipython2",
   "version": "2.7.6"
  }
 },
 "nbformat": 4,
 "nbformat_minor": 5
}
